{
 "cells": [
  {
   "attachments": {},
   "cell_type": "markdown",
   "metadata": {},
   "source": [
    "# Twitter Data: Word2Vec and collaborative filtering\n",
    "\n",
    "### Spark Data Analytics\n",
    "\n",
    "This project implements 2 analysis workloads using Twitter tweets data.\n",
    "\n",
    "1. Finding the top 5 users with similar interests as a given Twitter user id. The involves using tweet information to create a document representation of the tweet IDs each user ID has interacted with, then using Word2Vec to calculate the similarity.\n",
    "\n",
    "2. The second workload uses an ALS (Alternating Least Squares) collaborative filtering algorithm to suggest to a given user ID similar users to mention in a tweet. This is based on similarity between mention users they have mentioned in the past."
   ]
  },
  {
   "cell_type": "code",
   "execution_count": 1,
   "metadata": {},
   "outputs": [],
   "source": [
    "from pyspark import SparkConf,SparkContext\n",
    "from pyspark.sql import DataFrame,SQLContext\n",
    "from pyspark.sql import functions as function\n",
    "from pyspark.ml import Pipeline\n",
    "from pyspark.ml.feature import HashingTF, IDF, Tokenizer\n",
    "from pyspark.ml.feature import Word2Vec\n",
    "from pyspark.sql.types import StructField,IntegerType, StructType,StringType\n",
    "from pyspark.ml.linalg import Vectors, SparseVector\n",
    "from pyspark.sql.functions import *\n",
    "from pyspark.sql.types import *\n",
    "from pyspark.sql.functions import arrays_zip, col\n",
    "from pyspark.sql import Row\n",
    "from pyspark.ml.recommendation import ALS\n",
    "from pyspark.ml.tuning import CrossValidator, ParamGridBuilder\n",
    "from pyspark.sql import SparkSession\n",
    "from pyspark import SparkConf\n",
    "\n",
    "import math\n",
    "import csv\n",
    "import datetime\n",
    "\n",
    "# https://spark.apache.org/docs/latest/configuration.html\n",
    "\n",
    "spark_conf = SparkConf() \\\n",
    "            .setAppName(\"Configuration 5\").setAll([('spark.executor.instances', '2'), ('spark.executor.memory', '1g'), ('spark.driver.memory','1g'), ('spark.executor.cores', '10'), ('spark.sql.shuffle.partitions', '100')])\n",
    "\n",
    "# sc.stop()\n",
    "sc=SparkContext.getOrCreate(spark_conf)\n",
    "\n",
    "sqlContext = SQLContext(sc)"
   ]
  },
  {
   "cell_type": "code",
   "execution_count": 2,
   "metadata": {},
   "outputs": [
    {
     "data": {
      "text/plain": [
       "[('spark.eventLog.enabled', 'true'),\n",
       " ('spark.app.startTime', '1622442881930'),\n",
       " ('spark.app.id', 'local-1622442884027'),\n",
       " ('spark.executor.id', 'driver'),\n",
       " ('spark.yarn.historyServer.address', 'http://localhost:18080'),\n",
       " ('spark.driver.port', '33771'),\n",
       " ('spark.app.name', 'Defaults'),\n",
       " ('spark.rdd.compress', 'True'),\n",
       " ('spark.serializer.objectStreamReset', '100'),\n",
       " ('spark.master', 'local[*]'),\n",
       " ('spark.submit.pyFiles', ''),\n",
       " ('spark.submit.deployMode', 'client'),\n",
       " ('spark.driver.host', '2d0bccdca3bb'),\n",
       " ('spark.eventLog.dir', 'file:///home/jovyan/work/spark-history'),\n",
       " ('spark.ui.showConsoleProgress', 'true'),\n",
       " ('spark.history.fs.logDirectory', 'file:///home/jovyan/work/spark-history')]"
      ]
     },
     "execution_count": 2,
     "metadata": {},
     "output_type": "execute_result"
    }
   ],
   "source": [
    "sc.getConf().getAll()"
   ]
  },
  {
   "cell_type": "code",
   "execution_count": 3,
   "metadata": {},
   "outputs": [
    {
     "data": {
      "text/plain": [
       "DataFrame[created_at: string, hash_tags: array<struct<indices:array<bigint>,text:string>>, id: bigint, replyto_id: bigint, replyto_user_id: bigint, retweet_id: bigint, retweet_user_id: bigint, text: string, user_id: bigint, user_mentions: array<struct<id:bigint,indices:array<bigint>>>]"
      ]
     },
     "execution_count": 3,
     "metadata": {},
     "output_type": "execute_result"
    }
   ],
   "source": [
    "# Can use SparkRDD, SparkSQL and SparkML\n",
    "# import json data\n",
    "tweet = sqlContext.read.json(\"tweets.json\", multiLine = \"true\")\n",
    "tweet.cache()"
   ]
  },
  {
   "cell_type": "code",
   "execution_count": 4,
   "metadata": {
    "scrolled": true
   },
   "outputs": [
    {
     "name": "stdout",
     "output_type": "stream",
     "text": [
      "root\n",
      " |-- created_at: string (nullable = true)\n",
      " |-- hash_tags: array (nullable = true)\n",
      " |    |-- element: struct (containsNull = true)\n",
      " |    |    |-- indices: array (nullable = true)\n",
      " |    |    |    |-- element: long (containsNull = true)\n",
      " |    |    |-- text: string (nullable = true)\n",
      " |-- id: long (nullable = true)\n",
      " |-- replyto_id: long (nullable = true)\n",
      " |-- replyto_user_id: long (nullable = true)\n",
      " |-- retweet_id: long (nullable = true)\n",
      " |-- retweet_user_id: long (nullable = true)\n",
      " |-- text: string (nullable = true)\n",
      " |-- user_id: long (nullable = true)\n",
      " |-- user_mentions: array (nullable = true)\n",
      " |    |-- element: struct (containsNull = true)\n",
      " |    |    |-- id: long (nullable = true)\n",
      " |    |    |-- indices: array (nullable = true)\n",
      " |    |    |    |-- element: long (containsNull = true)\n",
      "\n",
      "+-------------------+---------------------+-------------------+----------+---------------+-------------------+---------------+------------------------------------------------------------------------------------------------------------------------------------------------+-------------------+----------------------+\n",
      "|created_at         |hash_tags            |id                 |replyto_id|replyto_user_id|retweet_id         |retweet_user_id|text                                                                                                                                            |user_id            |user_mentions         |\n",
      "+-------------------+---------------------+-------------------+----------+---------------+-------------------+---------------+------------------------------------------------------------------------------------------------------------------------------------------------+-------------------+----------------------+\n",
      "|2021-05-05 23:37:51|null                 |1390088382659895296|null      |null           |1390027514332991489|807095         |RT @nytimes: Breaking News: The Biden administration will support lifting patent protections for Covid-19 vaccines, a breakthrough for glob…    |17799542           |[{807095, [3, 11]}]   |\n",
      "|2021-05-05 23:37:45|[{[9, 18], BREAKING}]|1390088354717474822|null      |null           |1390022155350446082|380648579      |RT @AFP: #BREAKING US announces support for Covid-19 vaccine patent waiver https://t.co/ZWyQDD4hgN                                              |1166466828         |[{380648579, [3, 7]}] |\n",
      "|2021-05-05 23:37:42|null                 |1390088345288646661|null      |null           |1390050885229817856|191807697      |RT @jon_trickett: Credit to US President Joe Biden who has just endorsed waiving the patent on the Coronavirus Vaccine. \n",
      "\n",
      "Moral &amp; Ethical l…|1343606436149022723|[{191807697, [3, 16]}]|\n",
      "|2021-05-05 23:37:39|null                 |1390088329530544128|null      |null           |1390066365046865929|15115280       |RT @PalmerReport: If I’m reading Biden’s move correctly, what he just did is brilliant. By voicing support for waiving COVID vaccine patent…    |930226031276982273 |[{15115280, [3, 16]}] |\n",
      "|2021-05-05 23:37:36|null                 |1390088318906339328|null      |null           |1390027514332991489|807095         |RT @nytimes: Breaking News: The Biden administration will support lifting patent protections for Covid-19 vaccines, a breakthrough for glob…    |920858307392192513 |[{807095, [3, 11]}]   |\n",
      "+-------------------+---------------------+-------------------+----------+---------------+-------------------+---------------+------------------------------------------------------------------------------------------------------------------------------------------------+-------------------+----------------------+\n",
      "only showing top 5 rows\n",
      "\n"
     ]
    }
   ],
   "source": [
    "tweet.printSchema()\n",
    "tweet.show(5,truncate=False)"
   ]
  },
  {
   "attachments": {},
   "cell_type": "markdown",
   "metadata": {},
   "source": [
    "## Workload 1. Top 5 Recommended Users with Similar Tweet Interests"
   ]
  },
  {
   "attachments": {},
   "cell_type": "markdown",
   "metadata": {},
   "source": [
    "### Preprocessing"
   ]
  },
  {
   "cell_type": "code",
   "execution_count": 5,
   "metadata": {},
   "outputs": [
    {
     "name": "stdout",
     "output_type": "stream",
     "text": [
      "+-------------------+-------------------+\n",
      "|           tweet_id|            user_id|\n",
      "+-------------------+-------------------+\n",
      "|1390088186945228802|          221718444|\n",
      "|1390087562425950208|            8083722|\n",
      "|1390087448093503494|          252794509|\n",
      "|1390087436747698177| 739595086044876800|\n",
      "|1390087424571756550|           19881665|\n",
      "|1390086763901771783|1037346081619804163|\n",
      "|1390085493057011712|          245587515|\n",
      "|1390084965640069124|          598921658|\n",
      "|1390084886459977746|          584972360|\n",
      "|1390084259327746051|1238850236056924160|\n",
      "|1390083736436367361|           77509999|\n",
      "|1390083674432053250|          325542223|\n",
      "|1390083654534275073|          298217736|\n",
      "|1390083276308680708|           15012486|\n",
      "|1390083019558596613|1243269028841492480|\n",
      "+-------------------+-------------------+\n",
      "only showing top 15 rows\n",
      "\n"
     ]
    }
   ],
   "source": [
    "# select id, replyto_user_id, retweet_user_id\n",
    "tweet_reply = tweet.select(\"id\",\"replyto_user_id\") \\\n",
    ".filter(tweet.replyto_user_id.isNotNull()) \\\n",
    ".withColumnRenamed(\"id\",\"tweet_id\") \\\n",
    ".withColumnRenamed(\"replyto_user_id\",\"user_id\") \\\n",
    ".cache()\n",
    "\n",
    "tweet_reply = tweet_reply.withColumn(\"tweet_id\", tweet_reply[\"tweet_id\"].cast(StringType()))\n",
    "tweet_reply.show(15)"
   ]
  },
  {
   "cell_type": "code",
   "execution_count": 6,
   "metadata": {},
   "outputs": [
    {
     "name": "stdout",
     "output_type": "stream",
     "text": [
      "+-------------------+------------------+\n",
      "|           tweet_id|           user_id|\n",
      "+-------------------+------------------+\n",
      "|1390088382659895296|            807095|\n",
      "|1390088354717474822|         380648579|\n",
      "|1390088345288646661|         191807697|\n",
      "|1390088329530544128|          15115280|\n",
      "|1390088318906339328|            807095|\n",
      "|1390088314984697859|          20402945|\n",
      "|1390088291559608321|          26574283|\n",
      "|1390088288556388354|            807095|\n",
      "|1390088280755081221|            807095|\n",
      "|1390088274245472264|          15115280|\n",
      "|1390088263403249667|          26574283|\n",
      "|1390088257292079112|          36326893|\n",
      "|1390088255958224899|          26574283|\n",
      "|1390088227365609472|        3094649957|\n",
      "|1390088227101368322|846411464885747712|\n",
      "+-------------------+------------------+\n",
      "only showing top 15 rows\n",
      "\n"
     ]
    }
   ],
   "source": [
    "# select id, replyto_user_id, retweet_user_id\n",
    "tweet_retweet = tweet.select(\"id\",\"retweet_user_id\") \\\n",
    ".filter(tweet.retweet_user_id.isNotNull()) \\\n",
    ".withColumnRenamed(\"id\",\"tweet_id\") \\\n",
    ".withColumnRenamed(\"retweet_user_id\",\"user_id\").cache()\n",
    "\n",
    "tweet_retweet = tweet_retweet.withColumn(\"tweet_id\", tweet_retweet[\"tweet_id\"].cast(StringType()))\n",
    "tweet_retweet.show(15)"
   ]
  },
  {
   "cell_type": "code",
   "execution_count": 7,
   "metadata": {},
   "outputs": [],
   "source": [
    "# Append two table together vertically\n",
    "tweet_join = tweet_reply.union(tweet_retweet)"
   ]
  },
  {
   "cell_type": "code",
   "execution_count": 8,
   "metadata": {},
   "outputs": [],
   "source": [
    "# collect_set only grabs distinct values\n",
    "tweet_set = tweet_join.groupBy(\"user_id\") \\\n",
    ".agg(function.collect_list(\"tweet_id\")) \\\n",
    ".withColumnRenamed(\"collect_list(tweet_id)\",\"tweet_set\")"
   ]
  },
  {
   "cell_type": "code",
   "execution_count": 9,
   "metadata": {},
   "outputs": [
    {
     "data": {
      "text/plain": [
       "[('user_id', 'bigint'), ('tweet_set', 'array<string>')]"
      ]
     },
     "execution_count": 9,
     "metadata": {},
     "output_type": "execute_result"
    }
   ],
   "source": [
    "tweet_set.dtypes"
   ]
  },
  {
   "attachments": {},
   "cell_type": "markdown",
   "metadata": {},
   "source": [
    "## Feature Extractor 1: Word2Vec"
   ]
  },
  {
   "attachments": {},
   "cell_type": "markdown",
   "metadata": {},
   "source": [
    "### Document Representation"
   ]
  },
  {
   "cell_type": "code",
   "execution_count": 10,
   "metadata": {},
   "outputs": [
    {
     "name": "stdout",
     "output_type": "stream",
     "text": [
      "+------------------+------------------------------------------------------------------------------------------------------------------------------------------------------------------------------------------------------------------------------------------------------------------------------------------------------------------------------------------------------------------------------------------------------------------------------------------------------------------------------------------------------------------------------------------------------------------------------------------------------------------------------------------------------------------------------------------------------------------------------------------+\n",
      "|user_id           |tweet_set                                                                                                                                                                                                                                                                                                                                                                                                                                                                                                                                                                                                                                                                                                                                 |\n",
      "+------------------+------------------------------------------------------------------------------------------------------------------------------------------------------------------------------------------------------------------------------------------------------------------------------------------------------------------------------------------------------------------------------------------------------------------------------------------------------------------------------------------------------------------------------------------------------------------------------------------------------------------------------------------------------------------------------------------------------------------------------------------+\n",
      "|186520006         |[1390049035248193544]                                                                                                                                                                                                                                                                                                                                                                                                                                                                                                                                                                                                                                                                                                                     |\n",
      "|1206227149        |[1390070125722705921]                                                                                                                                                                                                                                                                                                                                                                                                                                                                                                                                                                                                                                                                                                                     |\n",
      "|59811175          |[1390067294634602497, 1390057954771079181, 1390056326949126146, 1390046798652313601]                                                                                                                                                                                                                                                                                                                                                                                                                                                                                                                                                                                                                                                      |\n",
      "|2791419078        |[1390047279814483971]                                                                                                                                                                                                                                                                                                                                                                                                                                                                                                                                                                                                                                                                                                                     |\n",
      "|980129972160360448|[1390042413578731525]                                                                                                                                                                                                                                                                                                                                                                                                                                                                                                                                                                                                                                                                                                                     |\n",
      "|23085502          |[1390072212632260615, 1390070024375787526, 1390064451051659264, 1390060643064107009, 1390060542702886912, 1390054938819039235, 1390053837017337856, 1390053185360998404, 1390053120164732931, 1390052414728855552, 1390051632751300610, 1390051587343618048, 1390051409555558406, 1390051096819912710, 1390050784059002885, 1390050772335742976, 1390050418231762953, 1390049434461999104, 1390048923251847169, 1390048911293771782, 1390048553905672194, 1390048083996643329, 1390046996556361732, 1390046750480732167, 1390044315091709965, 1390044216387117058, 1390042838340194306, 1390042389239279616, 1390042048275824647, 1390041831178637314, 1390041535413108740, 1390041450050506755, 1390041054263578626, 1390039542711914502]|\n",
      "|37935680          |[1390071053947396100, 1390070654259671043]                                                                                                                                                                                                                                                                                                                                                                                                                                                                                                                                                                                                                                                                                                |\n",
      "|138168339         |[1390041582812811264, 1390040164303622145, 1390040074352349185, 1390077282258194435]                                                                                                                                                                                                                                                                                                                                                                                                                                                                                                                                                                                                                                                      |\n",
      "|927388044         |[1390072609375621120]                                                                                                                                                                                                                                                                                                                                                                                                                                                                                                                                                                                                                                                                                                                     |\n",
      "|1643123766        |[1390073212151599105, 1390073211803422727, 1390072584692113411, 1390072464785350657, 1390072463841660930, 1390072458590384128]                                                                                                                                                                                                                                                                                                                                                                                                                                                                                                                                                                                                            |\n",
      "+------------------+------------------------------------------------------------------------------------------------------------------------------------------------------------------------------------------------------------------------------------------------------------------------------------------------------------------------------------------------------------------------------------------------------------------------------------------------------------------------------------------------------------------------------------------------------------------------------------------------------------------------------------------------------------------------------------------------------------------------------------------+\n",
      "only showing top 10 rows\n",
      "\n"
     ]
    },
    {
     "data": {
      "text/plain": [
       "[('user_id', 'bigint'), ('tweet_set', 'array<string>')]"
      ]
     },
     "execution_count": 10,
     "metadata": {},
     "output_type": "execute_result"
    }
   ],
   "source": [
    "tweet_set.show(10,truncate=False)\n",
    "tweet_set.dtypes"
   ]
  },
  {
   "attachments": {},
   "cell_type": "markdown",
   "metadata": {},
   "source": [
    "### Convert Array to String"
   ]
  },
  {
   "cell_type": "code",
   "execution_count": 11,
   "metadata": {},
   "outputs": [],
   "source": [
    "# convert array to string\n",
    "tweet_set_string = tweet_set.withColumn(\"tweet_set\", concat_ws(\" \", \"tweet_set\"))"
   ]
  },
  {
   "attachments": {},
   "cell_type": "markdown",
   "metadata": {},
   "source": [
    "### Cosine Similarity Function"
   ]
  },
  {
   "cell_type": "code",
   "execution_count": 12,
   "metadata": {},
   "outputs": [],
   "source": [
    "import math\n",
    "\n",
    "def cosine_similarity(rdd):\n",
    "    user = rdd[0][0]\n",
    "    comp = rdd[1][0]\n",
    "    x = rdd[0][1]\n",
    "    y = rdd[1][1]\n",
    "    return ((user, comp), x.dot(y) / ((x.dot(x) **.5) * (y.dot(y) ** .5)))"
   ]
  },
  {
   "attachments": {},
   "cell_type": "markdown",
   "metadata": {},
   "source": [
    "### Word2Vec"
   ]
  },
  {
   "cell_type": "code",
   "execution_count": 13,
   "metadata": {},
   "outputs": [
    {
     "data": {
      "text/plain": [
       "[Row(user_id=186520006, tweet_set=['1390049035248193544'], result=DenseVector([-0.0011, -0.0015, -0.0012, 0.0016, -0.0009, 0.0016, -0.0011, 0.001, 0.0008, 0.0016, -0.0016, -0.0007, 0.0002, -0.0005, -0.0006, 0.0011, -0.0012, 0.001, 0.001, 0.0005, 0.0017, -0.0001, 0.0013, -0.0001, -0.0016, -0.0003, -0.0015, -0.0008, 0.0007, -0.0017, 0.0013, -0.0013, 0.001, -0.0011, 0.0012, -0.0005, -0.0, -0.0014, -0.0, -0.0013, 0.0013, -0.0008, -0.0009, -0.0002, 0.001, 0.0011, 0.0004, -0.0009, 0.0006, -0.0004, -0.0004, 0.0013, -0.0012, 0.0002, -0.0004, -0.0011, 0.0011, -0.0012, 0.0013, -0.0009, -0.0005, 0.0003, -0.0014, 0.0014, -0.0012, -0.0015, -0.0005, 0.0002, -0.0003, -0.0013, 0.0014, -0.0005, -0.0006, 0.0013, 0.0014, 0.0003, 0.0003, 0.0013, -0.0013, 0.0005, -0.0015, 0.0004, 0.0016, 0.0012, -0.0004, -0.0016, 0.0014, -0.0006, -0.0007, -0.0014, 0.001, -0.0005, 0.0001, 0.0016, 0.0004, 0.0004, -0.0013, 0.0011, 0.0007, -0.0011, -0.0006, 0.0009, 0.0016, 0.0016, -0.0007, 0.0006, 0.0007, 0.0014, -0.0008, 0.001, 0.0007, 0.0003, 0.0008, -0.0007, 0.0014, 0.0015, -0.0008, 0.0008, 0.0001, -0.0014, -0.0003, 0.0011, 0.0005, -0.0007, 0.0003, -0.0011, 0.0001, -0.0016, -0.0011, 0.0004, -0.0001, 0.0011, -0.0011, 0.0016, 0.0014, -0.0003, 0.0009, 0.0, -0.0003, -0.0, -0.001, 0.0006, 0.0006, -0.0, 0.0007, -0.0014, 0.0016, -0.0005, -0.0011, 0.0006, 0.0014, 0.0002, -0.0006, -0.0015, -0.0008, -0.0012, -0.0014, -0.0009, -0.0014, -0.0002, -0.0009, -0.0011, 0.0013, 0.0001, -0.0007, 0.0002, 0.0012, -0.0007, 0.0016, 0.0015, -0.0017, -0.0004, -0.0012, -0.0001, 0.0002, 0.0016, 0.0011, -0.0008, 0.0012, -0.001, -0.0009, 0.0008, 0.0013, 0.0004, 0.0011, 0.0008, 0.0005, 0.0002, 0.0009, 0.0008, -0.0013, 0.0017, -0.0011, -0.0012, 0.0014, 0.0002, -0.0012, 0.0001, 0.0015, -0.0013, 0.0008, -0.0014, -0.0013, -0.0002, -0.0003, 0.0015, -0.0007, -0.0003, -0.0002, -0.0001, 0.0009, 0.0004, 0.0013, -0.0003, -0.0011, 0.0007, -0.0005, 0.0011, 0.0002, 0.0013, -0.0013, 0.0009, 0.0014, -0.0012, 0.0003, -0.0001, -0.0002, 0.0008, 0.0014, 0.0012, -0.0001, 0.0016, 0.0015, -0.0011, 0.0011, -0.0009, -0.0012, -0.0015, 0.0008, 0.0005, 0.0004, 0.0005, -0.0006, -0.0008, 0.0002, 0.0006, -0.0014, -0.0003, -0.0015, -0.0006, -0.0016, 0.0015, 0.0012, 0.0013, 0.0006, -0.0011, 0.0, 0.0011, 0.0014, -0.0005, -0.0016, 0.0003, -0.0009, 0.0005, -0.001, -0.0015, 0.0015, 0.0004, -0.0013, 0.0011, 0.0009, 0.0003, 0.0003, 0.0016, -0.0001, 0.0016, -0.0006, -0.0013, -0.0002, 0.0007, 0.0013, -0.001, 0.0012, 0.0011, -0.0009, 0.0003, 0.0013, 0.0009, 0.0013, -0.0011, -0.001, 0.0004, 0.0015, -0.0007, 0.0006, 0.0001, -0.0007, 0.0003, 0.0001, 0.0002]))]"
      ]
     },
     "execution_count": 13,
     "metadata": {},
     "output_type": "execute_result"
    }
   ],
   "source": [
    "# Word2Vec algorithm\n",
    "word2vec = Word2Vec(vectorSize = 300, minCount = 1, inputCol = 'tweet_set', outputCol = 'result')\n",
    "model = word2vec.fit(tweet_set)\n",
    "result = model.transform(tweet_set)\n",
    "result.take(1)"
   ]
  },
  {
   "attachments": {},
   "cell_type": "markdown",
   "metadata": {},
   "source": [
    "### Creating Static User Vector and Comparison Vectors"
   ]
  },
  {
   "cell_type": "code",
   "execution_count": 14,
   "metadata": {},
   "outputs": [
    {
     "name": "stdout",
     "output_type": "stream",
     "text": [
      "+---------+--------------------+\n",
      "|  user_id|              result|\n",
      "+---------+--------------------+\n",
      "|138168339|[-2.7001406579074...|\n",
      "+---------+--------------------+\n",
      "\n"
     ]
    }
   ],
   "source": [
    "# One static vector and all other vectors in dataframe result is DataFrame\n",
    "user_id_w2v = result.filter(result.user_id == '138168339').select(\"user_id\",\"result\")\n",
    "user_id_w2v.show()"
   ]
  },
  {
   "cell_type": "code",
   "execution_count": 15,
   "metadata": {},
   "outputs": [
    {
     "name": "stdout",
     "output_type": "stream",
     "text": [
      "+------------------+--------------------+\n",
      "|           user_id|              result|\n",
      "+------------------+--------------------+\n",
      "|         186520006|[-0.0011121596908...|\n",
      "|        1206227149|[-0.0016537785995...|\n",
      "|          59811175|[-4.5114144086255...|\n",
      "|        2791419078|[-8.0588259152136...|\n",
      "|980129972160360448|[-0.0012216510949...|\n",
      "|          23085502|[1.60405218861449...|\n",
      "|          37935680|[-6.7934959952253...|\n",
      "|         927388044|[2.00922891963273...|\n",
      "|        1643123766|[8.07363307103514...|\n",
      "|        2195885540|[-4.1051228451708...|\n",
      "|          25146372|[-1.7893104813992...|\n",
      "|         286332872|[6.02257241553161...|\n",
      "|        2966462296|[2.33374477829784...|\n",
      "|        3044682647|[-0.0014002505922...|\n",
      "|          17672825|[1.54426903463900...|\n",
      "|          32345449|[8.97124991752207...|\n",
      "|          36326893|[6.01776138258477...|\n",
      "|          40851610|[1.51855700551095...|\n",
      "|          76918775|[1.8923262541648E...|\n",
      "|950322380412342273|[-0.0015861816937...|\n",
      "+------------------+--------------------+\n",
      "only showing top 20 rows\n",
      "\n"
     ]
    }
   ],
   "source": [
    "# Other \n",
    "all_other_w2v = result.filter(result.user_id != '138168339').select(\"user_id\",\"result\")\n",
    "all_other_w2v.show()"
   ]
  },
  {
   "cell_type": "code",
   "execution_count": 16,
   "metadata": {},
   "outputs": [],
   "source": [
    "# static userID = [0][0]\n",
    "# comparison userID = [1][0]\n",
    "# static userID = [0][1]   dense vector of static vector\n",
    "# static userID = [1][1]   dense vector of comparison vector\n",
    "\n",
    "# word2vec_cosine.map(lambda x: x[1][0]).collect()"
   ]
  },
  {
   "cell_type": "code",
   "execution_count": 17,
   "metadata": {},
   "outputs": [],
   "source": [
    "user_id_w2v_rdd = user_id_w2v.rdd.map(lambda x: (x[0],x[1])).collect()\n",
    "user_id_w2v_rdd = sc.parallelize(user_id_w2v_rdd)\n",
    "\n",
    "all_other_w2v_rdd = all_other_w2v.rdd.map(lambda x: (x[0],x[1])).collect()\n",
    "all_other_w2v_rdd = sc.parallelize(all_other_w2v_rdd)\n",
    "\n",
    "word2vec_cosine = user_id_w2v_rdd.cartesian(all_other_w2v_rdd).map(cosine_similarity).cache()"
   ]
  },
  {
   "attachments": {},
   "cell_type": "markdown",
   "metadata": {},
   "source": [
    "### Word2Vec Recommendation for UserID = 138168339 - Top 5 Users by Cosine Similarity"
   ]
  },
  {
   "cell_type": "code",
   "execution_count": 18,
   "metadata": {},
   "outputs": [
    {
     "data": {
      "text/plain": [
       "[((138168339, 4319416272), 0.1679473594982805),\n",
       " ((138168339, 91905327), 0.15648947468856134),\n",
       " ((138168339, 345745234), 0.15575210018168117),\n",
       " ((138168339, 5392522), 0.15574439860369743),\n",
       " ((138168339, 21969867), 0.14604886511105758)]"
      ]
     },
     "execution_count": 18,
     "metadata": {},
     "output_type": "execute_result"
    }
   ],
   "source": [
    "# Columns are User_ID, recommended User_ID based on similar interests, and cosine similarity metric\n",
    "final_Q1_w2v_desc = word2vec_cosine.sortBy(lambda x: x[1],ascending=False).take(5)\n",
    "final_Q1_w2v_desc"
   ]
  },
  {
   "attachments": {},
   "cell_type": "markdown",
   "metadata": {},
   "source": [
    "## Feature Extractor 2: TF-IDF"
   ]
  },
  {
   "cell_type": "code",
   "execution_count": 19,
   "metadata": {},
   "outputs": [
    {
     "name": "stdout",
     "output_type": "stream",
     "text": [
      "+------------------+-------------------------------------------------------------------------------+\n",
      "|user_id           |tweet_set                                                                      |\n",
      "+------------------+-------------------------------------------------------------------------------+\n",
      "|186520006         |1390049035248193544                                                            |\n",
      "|1206227149        |1390070125722705921                                                            |\n",
      "|59811175          |1390067294634602497 1390057954771079181 1390056326949126146 1390046798652313601|\n",
      "|2791419078        |1390047279814483971                                                            |\n",
      "|980129972160360448|1390042413578731525                                                            |\n",
      "+------------------+-------------------------------------------------------------------------------+\n",
      "only showing top 5 rows\n",
      "\n",
      "root\n",
      " |-- user_id: long (nullable = true)\n",
      " |-- tweet_set: string (nullable = false)\n",
      "\n"
     ]
    }
   ],
   "source": [
    "# select only tweet_set for TF-IDF vector\n",
    "tweet_tfidf = tweet_set_string.select(\"user_id\", \"tweet_set\").cache()\n",
    "tweet_tfidf.show(5,truncate=False)\n",
    "tweet_tfidf.printSchema()"
   ]
  },
  {
   "cell_type": "code",
   "execution_count": 20,
   "metadata": {},
   "outputs": [
    {
     "name": "stdout",
     "output_type": "stream",
     "text": [
      "root\n",
      " |-- user_id: long (nullable = true)\n",
      " |-- tweet_set: string (nullable = false)\n",
      " |-- words: array (nullable = true)\n",
      " |    |-- element: string (containsNull = true)\n",
      " |-- rawFeatures: vector (nullable = true)\n",
      " |-- features: vector (nullable = true)\n",
      "\n"
     ]
    }
   ],
   "source": [
    "# Calculate TF-IDF\n",
    "tokenizer = Tokenizer(inputCol=\"tweet_set\", outputCol=\"words\")\n",
    "vectorizer  = HashingTF(inputCol=tokenizer.getOutputCol(), outputCol=\"rawFeatures\",numFeatures=300)\n",
    "idf = IDF(inputCol=\"rawFeatures\", outputCol=\"features\")\n",
    "\n",
    "pipeline = Pipeline(stages=[tokenizer, vectorizer, idf])\n",
    "\n",
    "model = pipeline.fit(tweet_tfidf)\n",
    "# Data Frame\n",
    "tfidf = model.transform(tweet_tfidf)\n",
    "tfidf.printSchema()"
   ]
  },
  {
   "attachments": {},
   "cell_type": "markdown",
   "metadata": {},
   "source": [
    "### Creating Static User Vector and Comparison Vectors"
   ]
  },
  {
   "cell_type": "code",
   "execution_count": 21,
   "metadata": {},
   "outputs": [],
   "source": [
    "# User to compare other users to\n",
    "user_id_tdidf = tfidf.filter(tfidf.user_id == '138168339').select(\"user_id\",\"features\").cache()"
   ]
  },
  {
   "cell_type": "code",
   "execution_count": 22,
   "metadata": {},
   "outputs": [],
   "source": [
    "all_other_tdidf = tfidf.filter(tfidf.user_id != '138168339').select(\"user_id\",\"features\").cache()"
   ]
  },
  {
   "cell_type": "code",
   "execution_count": 23,
   "metadata": {},
   "outputs": [],
   "source": [
    "# Calculate Cosine Similarity\n",
    "user_id_tdidf_rdd = user_id_tdidf.rdd.map(lambda x: (x[0],x[1])).collect()\n",
    "user_id_tdidf_rdd = sc.parallelize(user_id_tdidf_rdd)\n",
    "\n",
    "all_other_tdidf_rdd = all_other_tdidf.rdd.map(lambda x: (x[0],x[1])).collect()\n",
    "all_other_tdidf_rdd = sc.parallelize(all_other_tdidf_rdd)\n",
    "\n",
    "tfidf_cosine = user_id_tdidf_rdd.cartesian(all_other_tdidf_rdd).map(cosine_similarity).cache()"
   ]
  },
  {
   "attachments": {},
   "cell_type": "markdown",
   "metadata": {},
   "source": [
    "### TF-IDF Recommendation for UserID = 138168339 - Top 5 Users by Cosine Similarity"
   ]
  },
  {
   "cell_type": "code",
   "execution_count": 24,
   "metadata": {},
   "outputs": [
    {
     "data": {
      "text/plain": [
       "[((138168339, 1906579968), 0.5135958160821892),\n",
       " ((138168339, 2512691774), 0.5135958160821892),\n",
       " ((138168339, 1497069360), 0.5135958160821892),\n",
       " ((138168339, 902902542857854977), 0.5135958160821892),\n",
       " ((138168339, 242898032), 0.5135958160821892)]"
      ]
     },
     "execution_count": 24,
     "metadata": {},
     "output_type": "execute_result"
    }
   ],
   "source": [
    "# Columns are User_ID, recommended User_ID based on similar interests, and cosine similarity metric\n",
    "final_Q1_idf_desc = tfidf_cosine.sortBy(lambda x: x[1],ascending=False).take(5)\n",
    "final_Q1_idf_desc"
   ]
  },
  {
   "attachments": {},
   "cell_type": "markdown",
   "metadata": {},
   "source": [
    "### Summary Workload 1"
   ]
  },
  {
   "cell_type": "code",
   "execution_count": 25,
   "metadata": {},
   "outputs": [
    {
     "data": {
      "text/plain": [
       "[((138168339, 4319416272), 0.1679473594982805),\n",
       " ((138168339, 91905327), 0.15648947468856134),\n",
       " ((138168339, 345745234), 0.15575210018168117),\n",
       " ((138168339, 5392522), 0.15574439860369743),\n",
       " ((138168339, 21969867), 0.14604886511105758)]"
      ]
     },
     "execution_count": 25,
     "metadata": {},
     "output_type": "execute_result"
    }
   ],
   "source": [
    "final_Q1_w2v_desc"
   ]
  },
  {
   "cell_type": "code",
   "execution_count": 26,
   "metadata": {},
   "outputs": [
    {
     "data": {
      "text/plain": [
       "[((138168339, 1906579968), 0.5135958160821892),\n",
       " ((138168339, 2512691774), 0.5135958160821892),\n",
       " ((138168339, 1497069360), 0.5135958160821892),\n",
       " ((138168339, 902902542857854977), 0.5135958160821892),\n",
       " ((138168339, 242898032), 0.5135958160821892)]"
      ]
     },
     "execution_count": 26,
     "metadata": {},
     "output_type": "execute_result"
    }
   ],
   "source": [
    "final_Q1_idf_desc"
   ]
  },
  {
   "attachments": {},
   "cell_type": "markdown",
   "metadata": {},
   "source": [
    "# Workload 2. User Recommendations"
   ]
  },
  {
   "cell_type": "code",
   "execution_count": 27,
   "metadata": {},
   "outputs": [
    {
     "data": {
      "text/plain": [
       "pyspark.sql.dataframe.DataFrame"
      ]
     },
     "execution_count": 27,
     "metadata": {},
     "output_type": "execute_result"
    }
   ],
   "source": [
    "# Using collaborative filtering algorithm\n",
    "tweet_als = tweet.select(\"user_id\",\"user_mentions\") \\\n",
    ".filter(tweet.user_mentions.isNotNull()) \\\n",
    ".cache()\n",
    "\n",
    "# only need user_id and id= as mention_id\n",
    "tweet_als.take(15)\n",
    "type(tweet_als)"
   ]
  },
  {
   "attachments": {},
   "cell_type": "markdown",
   "metadata": {},
   "source": [
    "### Pre-Processing"
   ]
  },
  {
   "cell_type": "code",
   "execution_count": 28,
   "metadata": {},
   "outputs": [
    {
     "name": "stdout",
     "output_type": "stream",
     "text": [
      "root\n",
      " |-- user_id: long (nullable = true)\n",
      " |-- user_mentions: array (nullable = true)\n",
      " |    |-- element: struct (containsNull = true)\n",
      " |    |    |-- id: long (nullable = true)\n",
      " |    |    |-- indices: array (nullable = true)\n",
      " |    |    |    |-- element: long (containsNull = true)\n",
      " |-- mention_1: struct (nullable = true)\n",
      " |    |-- id: long (nullable = true)\n",
      " |    |-- indices: array (nullable = true)\n",
      " |    |    |-- element: long (containsNull = true)\n",
      " |-- mention_2: struct (nullable = true)\n",
      " |    |-- id: long (nullable = true)\n",
      " |    |-- indices: array (nullable = true)\n",
      " |    |    |-- element: long (containsNull = true)\n",
      " |-- mention_3: struct (nullable = true)\n",
      " |    |-- id: long (nullable = true)\n",
      " |    |-- indices: array (nullable = true)\n",
      " |    |    |-- element: long (containsNull = true)\n",
      " |-- mention_4: struct (nullable = true)\n",
      " |    |-- id: long (nullable = true)\n",
      " |    |-- indices: array (nullable = true)\n",
      " |    |    |-- element: long (containsNull = true)\n",
      " |-- mention_5: struct (nullable = true)\n",
      " |    |-- id: long (nullable = true)\n",
      " |    |-- indices: array (nullable = true)\n",
      " |    |    |-- element: long (containsNull = true)\n",
      " |-- mention_6: struct (nullable = true)\n",
      " |    |-- id: long (nullable = true)\n",
      " |    |-- indices: array (nullable = true)\n",
      " |    |    |-- element: long (containsNull = true)\n",
      " |-- mention_7: struct (nullable = true)\n",
      " |    |-- id: long (nullable = true)\n",
      " |    |-- indices: array (nullable = true)\n",
      " |    |    |-- element: long (containsNull = true)\n",
      " |-- mention_8: struct (nullable = true)\n",
      " |    |-- id: long (nullable = true)\n",
      " |    |-- indices: array (nullable = true)\n",
      " |    |    |-- element: long (containsNull = true)\n",
      "\n",
      "+-------------------+--------------------+--------------------+--------------------+--------------------+--------------------+---------+---------+---------+---------+\n",
      "|            user_id|       user_mentions|           mention_1|           mention_2|           mention_3|           mention_4|mention_5|mention_6|mention_7|mention_8|\n",
      "+-------------------+--------------------+--------------------+--------------------+--------------------+--------------------+---------+---------+---------+---------+\n",
      "|           17799542| [{807095, [3, 11]}]|   {807095, [3, 11]}|                null|                null|                null|     null|     null|     null|     null|\n",
      "|         1166466828|[{380648579, [3, ...| {380648579, [3, 7]}|                null|                null|                null|     null|     null|     null|     null|\n",
      "|1343606436149022723|[{191807697, [3, ...|{191807697, [3, 16]}|                null|                null|                null|     null|     null|     null|     null|\n",
      "| 930226031276982273|[{15115280, [3, 1...| {15115280, [3, 16]}|                null|                null|                null|     null|     null|     null|     null|\n",
      "| 920858307392192513| [{807095, [3, 11]}]|   {807095, [3, 11]}|                null|                null|                null|     null|     null|     null|     null|\n",
      "|           21458110|[{20402945, [3, 8...|  {20402945, [3, 8]}|{21802625, [130, ...|                null|                null|     null|     null|     null|     null|\n",
      "| 787062740183552000|[{26574283, [3, 1...| {26574283, [3, 11]}|                null|                null|                null|     null|     null|     null|     null|\n",
      "|         2955789098| [{807095, [3, 11]}]|   {807095, [3, 11]}|                null|                null|                null|     null|     null|     null|     null|\n",
      "|          198453947| [{807095, [3, 11]}]|   {807095, [3, 11]}|                null|                null|                null|     null|     null|     null|     null|\n",
      "|         1431726547|[{15115280, [3, 1...| {15115280, [3, 16]}|                null|                null|                null|     null|     null|     null|     null|\n",
      "|1245145031045980163|[{26574283, [3, 1...| {26574283, [3, 11]}|                null|                null|                null|     null|     null|     null|     null|\n",
      "|         2181244875|[{36326893, [3, 1...| {36326893, [3, 13]}|{1146329871418843...|{42183750, [106, ...|{1003895325025865...|     null|     null|     null|     null|\n",
      "|           34865264|[{26574283, [3, 1...| {26574283, [3, 11]}|                null|                null|                null|     null|     null|     null|     null|\n",
      "|          179912903|[{3094649957, [3,...|{3094649957, [3, ...|{24259259, [17, 23]}|{21802625, [129, ...|                null|     null|     null|     null|     null|\n",
      "|1173096863840423941|[{846411464885747...|{8464114648857477...|                null|                null|                null|     null|     null|     null|     null|\n",
      "|          491594719|[{15250661, [119,...|{15250661, [119, ...|                null|                null|                null|     null|     null|     null|     null|\n",
      "|           40404318|[{7788062, [3, 11]}]|  {7788062, [3, 11]}|                null|                null|                null|     null|     null|     null|     null|\n",
      "|1326851827879604226|[{3094649957, [3,...|{3094649957, [3, ...|{24259259, [32, 38]}|                null|                null|     null|     null|     null|     null|\n",
      "|            5567892|[{26574283, [3, 1...| {26574283, [3, 11]}|                null|                null|                null|     null|     null|     null|     null|\n",
      "|           55199013|[{221718444, [0, ...| {221718444, [0, 7]}|                null|                null|                null|     null|     null|     null|     null|\n",
      "+-------------------+--------------------+--------------------+--------------------+--------------------+--------------------+---------+---------+---------+---------+\n",
      "only showing top 20 rows\n",
      "\n"
     ]
    }
   ],
   "source": [
    "#from pyspark.sql.functions import arrays_zip, col\n",
    "#from pyspark.sql import Row\n",
    "\n",
    "# Number of mention_users selected by trial and error\n",
    "tweet_als_2 = tweet_als.withColumn(\"mention_1\", tweet_als[\"user_mentions\"].getItem(0)) \\\n",
    ".withColumn(\"mention_2\", tweet_als[\"user_mentions\"].getItem(1)) \\\n",
    ".withColumn(\"mention_3\", tweet_als[\"user_mentions\"].getItem(2)) \\\n",
    ".withColumn(\"mention_4\", tweet_als[\"user_mentions\"].getItem(3)) \\\n",
    ".withColumn(\"mention_5\", tweet_als[\"user_mentions\"].getItem(4)) \\\n",
    ".withColumn(\"mention_6\", tweet_als[\"user_mentions\"].getItem(5)) \\\n",
    ".withColumn(\"mention_7\", tweet_als[\"user_mentions\"].getItem(6)) \\\n",
    ".withColumn(\"mention_8\", tweet_als[\"user_mentions\"].getItem(7))\n",
    "\n",
    "tweet_als_2.printSchema()\n",
    "tweet_als_2.show()"
   ]
  },
  {
   "cell_type": "code",
   "execution_count": 29,
   "metadata": {},
   "outputs": [
    {
     "name": "stdout",
     "output_type": "stream",
     "text": [
      "root\n",
      " |-- user_id: long (nullable = true)\n",
      " |-- mention_id: long (nullable = true)\n",
      "\n",
      "+-------------------+------------------+\n",
      "|            user_id|        mention_id|\n",
      "+-------------------+------------------+\n",
      "|           17799542|            807095|\n",
      "|         1166466828|         380648579|\n",
      "|1343606436149022723|         191807697|\n",
      "| 930226031276982273|          15115280|\n",
      "| 920858307392192513|            807095|\n",
      "|           21458110|          20402945|\n",
      "| 787062740183552000|          26574283|\n",
      "|         2955789098|            807095|\n",
      "|          198453947|            807095|\n",
      "|         1431726547|          15115280|\n",
      "|1245145031045980163|          26574283|\n",
      "|         2181244875|          36326893|\n",
      "|           34865264|          26574283|\n",
      "|          179912903|        3094649957|\n",
      "|1173096863840423941|846411464885747712|\n",
      "|          491594719|          15250661|\n",
      "|           40404318|           7788062|\n",
      "|1326851827879604226|        3094649957|\n",
      "|            5567892|          26574283|\n",
      "|           55199013|         221718444|\n",
      "+-------------------+------------------+\n",
      "only showing top 20 rows\n",
      "\n"
     ]
    }
   ],
   "source": [
    "# still nested struct for user_mentions\n",
    "\n",
    "expanded_1 = tweet_als_2.select(\"user_id\",col(\"mention_1.*\")).select(\"user_id\",\"id\").withColumnRenamed(\"id\",\"mention_id\") \\\n",
    ".filter(tweet_als_2.mention_1.isNotNull()).cache()\n",
    "expanded_2 = tweet_als_2.select(\"user_id\",col(\"mention_2.*\")).select(\"user_id\",\"id\").withColumnRenamed(\"id\",\"mention_id\") \\\n",
    ".filter(tweet_als_2.mention_2.isNotNull()).cache()\n",
    "expanded_3 = tweet_als_2.select(\"user_id\",col(\"mention_3.*\")).select(\"user_id\",\"id\").withColumnRenamed(\"id\",\"mention_id\") \\\n",
    ".filter(tweet_als_2.mention_3.isNotNull()).cache()\n",
    "expanded_4 = tweet_als_2.select(\"user_id\",col(\"mention_4.*\")).select(\"user_id\",\"id\").withColumnRenamed(\"id\",\"mention_id\") \\\n",
    ".filter(tweet_als_2.mention_4.isNotNull()).cache()\n",
    "expanded_5 = tweet_als_2.select(\"user_id\",col(\"mention_5.*\")).select(\"user_id\",\"id\").withColumnRenamed(\"id\",\"mention_id\") \\\n",
    ".filter(tweet_als_2.mention_5.isNotNull()).cache()\n",
    "expanded_6 = tweet_als_2.select(\"user_id\",col(\"mention_6.*\")).select(\"user_id\",\"id\").withColumnRenamed(\"id\",\"mention_id\") \\\n",
    ".filter(tweet_als_2.mention_6.isNotNull()).cache()\n",
    "expanded_7 = tweet_als_2.select(\"user_id\",col(\"mention_7.*\")).select(\"user_id\",\"id\").withColumnRenamed(\"id\",\"mention_id\") \\\n",
    ".filter(tweet_als_2.mention_7.isNotNull()).cache()\n",
    "expanded_8 = tweet_als_2.select(\"user_id\",col(\"mention_8.*\")).select(\"user_id\",\"id\").withColumnRenamed(\"id\",\"mention_id\") \\\n",
    ".filter(tweet_als_2.mention_8.isNotNull()).cache()\n",
    "\n",
    "# Example\n",
    "expanded_1.printSchema()\n",
    "type(expanded_1)\n",
    "expanded_1.show()"
   ]
  },
  {
   "cell_type": "code",
   "execution_count": 30,
   "metadata": {},
   "outputs": [
    {
     "name": "stdout",
     "output_type": "stream",
     "text": [
      "root\n",
      " |-- user_id: long (nullable = true)\n",
      " |-- mention_id: long (nullable = true)\n",
      "\n",
      "+-------------------+------------------+\n",
      "|            user_id|        mention_id|\n",
      "+-------------------+------------------+\n",
      "|           17799542|            807095|\n",
      "|         1166466828|         380648579|\n",
      "|1343606436149022723|         191807697|\n",
      "| 930226031276982273|          15115280|\n",
      "| 920858307392192513|            807095|\n",
      "|           21458110|          20402945|\n",
      "| 787062740183552000|          26574283|\n",
      "|         2955789098|            807095|\n",
      "|          198453947|            807095|\n",
      "|         1431726547|          15115280|\n",
      "|1245145031045980163|          26574283|\n",
      "|         2181244875|          36326893|\n",
      "|           34865264|          26574283|\n",
      "|          179912903|        3094649957|\n",
      "|1173096863840423941|846411464885747712|\n",
      "|          491594719|          15250661|\n",
      "|           40404318|           7788062|\n",
      "|1326851827879604226|        3094649957|\n",
      "|            5567892|          26574283|\n",
      "|           55199013|         221718444|\n",
      "+-------------------+------------------+\n",
      "only showing top 20 rows\n",
      "\n"
     ]
    }
   ],
   "source": [
    "# UnionAll keeps duplicates\n",
    "union1 = expanded_1.unionAll(expanded_2)\n",
    "union2 = union1.unionAll(expanded_3)\n",
    "union3 = union2.unionAll(expanded_4)\n",
    "union4 = union3.unionAll(expanded_5)\n",
    "union5 = union4.unionAll(expanded_6)\n",
    "union6 = union5.unionAll(expanded_7)\n",
    "union7 = union6.unionAll(expanded_8).cache()\n",
    "\n",
    "# DataFrame\n",
    "union7.printSchema()\n",
    "union7.show()"
   ]
  },
  {
   "cell_type": "code",
   "execution_count": 31,
   "metadata": {},
   "outputs": [
    {
     "name": "stdout",
     "output_type": "stream",
     "text": [
      "root\n",
      " |-- user_id: long (nullable = true)\n",
      " |-- mention_id: long (nullable = true)\n",
      " |-- rating: long (nullable = false)\n",
      "\n"
     ]
    }
   ],
   "source": [
    "# Create Rating Column for count of times user_id mentioned mention_id\n",
    "als_input = union7.select('user_id','mention_id').groupBy('user_id','mention_id').count() \\\n",
    ".toDF('user_id','mention_id','rating').sort('user_id', 'mention_id') \\\n",
    ".cache()\n",
    "\n",
    "als_input.printSchema()"
   ]
  },
  {
   "cell_type": "code",
   "execution_count": 32,
   "metadata": {},
   "outputs": [
    {
     "name": "stdout",
     "output_type": "stream",
     "text": [
      "+-------------------+----------+------+\n",
      "|            user_id|mention_id|rating|\n",
      "+-------------------+----------+------+\n",
      "|         3094649957|  24259259|     6|\n",
      "|         3094649957|3094649957|     3|\n",
      "| 898230537244073986| 281877818|     3|\n",
      "|1286417148848480257|  55060090|     3|\n",
      "+-------------------+----------+------+\n",
      "\n"
     ]
    }
   ],
   "source": [
    "# check\n",
    "multiple_rating = als_input.filter(als_input.rating > 2).cache()\n",
    "multiple_rating.show()"
   ]
  },
  {
   "attachments": {},
   "cell_type": "markdown",
   "metadata": {},
   "source": [
    "### Creating Lookup Tables for User and Mention IDs"
   ]
  },
  {
   "cell_type": "code",
   "execution_count": 33,
   "metadata": {},
   "outputs": [
    {
     "data": {
      "text/plain": [
       "[[29283, 45943310, 1],\n",
       " [29283, 1349149096909668363, 1],\n",
       " [29283, 1354219017721032709, 1],\n",
       " [50613, 380648579, 1],\n",
       " [661173, 807095, 1],\n",
       " [756287, 133081348, 1],\n",
       " [762115, 26574283, 1],\n",
       " [773664, 23085502, 1],\n",
       " [773664, 3290364847, 1],\n",
       " [817652, 83616201, 1]]"
      ]
     },
     "execution_count": 33,
     "metadata": {},
     "output_type": "execute_result"
    }
   ],
   "source": [
    "als_rdd = als_input.rdd.map(list).cache()\n",
    "als_rdd.take(10)"
   ]
  },
  {
   "cell_type": "code",
   "execution_count": 34,
   "metadata": {},
   "outputs": [],
   "source": [
    "# Have to put assign to distinct IDs\n",
    "user_als_id_LUT = sqlContext.createDataFrame(als_input.rdd.map(lambda x: x[0]).distinct().zipWithIndex(), StructType([StructField(\"userid\", StringType(), True),StructField(\"user_als_id\", IntegerType(), True)])).cache()"
   ]
  },
  {
   "cell_type": "code",
   "execution_count": 35,
   "metadata": {},
   "outputs": [],
   "source": [
    "# als_input['user_id'].apply(lambda x: len(x)>9)\n",
    "# len(als_input.user_id)\n",
    "mention_als_id_LUT = sqlContext.createDataFrame(als_input.rdd.map(lambda x: x[1]).distinct().zipWithIndex(), StructType([StructField(\"mentionid\", StringType(), True),StructField(\"mention_als_id\", IntegerType(), True)])).cache()"
   ]
  },
  {
   "cell_type": "code",
   "execution_count": 36,
   "metadata": {},
   "outputs": [],
   "source": [
    "# rename before join\n",
    "user_als_id_LUT = user_als_id_LUT.withColumnRenamed(\"userid\",\"user_id\")\n",
    "mention_als_id_LUT = mention_als_id_LUT.withColumnRenamed(\"mentionid\",\"mention_id\")"
   ]
  },
  {
   "cell_type": "code",
   "execution_count": 37,
   "metadata": {},
   "outputs": [
    {
     "name": "stdout",
     "output_type": "stream",
     "text": [
      "root\n",
      " |-- user_als_id: integer (nullable = true)\n",
      " |-- mention_als_id: integer (nullable = true)\n",
      " |-- rating: long (nullable = false)\n",
      "\n",
      "+-----------+--------------+------+\n",
      "|user_als_id|mention_als_id|rating|\n",
      "+-----------+--------------+------+\n",
      "|       2494|           680|     1|\n",
      "|       7639|           680|     1|\n",
      "|       3969|           680|     1|\n",
      "|       5208|           680|     1|\n",
      "|       3404|            31|     1|\n",
      "+-----------+--------------+------+\n",
      "only showing top 5 rows\n",
      "\n"
     ]
    }
   ],
   "source": [
    "# Replace original table with lookup variables\n",
    "\n",
    "user_join = als_input.join(user_als_id_LUT, als_input.user_id == user_als_id_LUT.user_id,how='left')\n",
    "#user_join.show()\n",
    "\n",
    "mention_join = user_join.join(mention_als_id_LUT, user_join.mention_id == mention_als_id_LUT.mention_id,how='left')\n",
    "#mention_join.show()\n",
    "\n",
    "als_input_index = mention_join.select(\"user_als_id\",\"mention_als_id\",\"rating\").cache()\n",
    "\n",
    "als_input_index.printSchema()\n",
    "als_input_index.show(5)"
   ]
  },
  {
   "attachments": {},
   "cell_type": "markdown",
   "metadata": {},
   "source": [
    "## ALS Model Training"
   ]
  },
  {
   "cell_type": "code",
   "execution_count": 38,
   "metadata": {},
   "outputs": [],
   "source": [
    "# parrelism when doing parameter optimisation\n",
    "# Split into test and training sets\n",
    "import random\n",
    "random.seed(123)\n",
    "(training, test) = als_input_index.randomSplit([0.8, 0.2])"
   ]
  },
  {
   "cell_type": "code",
   "execution_count": 39,
   "metadata": {},
   "outputs": [],
   "source": [
    "# Train the model\n",
    "als = ALS(maxIter=5, regParam=0.01, userCol=\"user_als_id\", itemCol=\"mention_als_id\", ratingCol=\"rating\",\n",
    "          coldStartStrategy=\"drop\")\n",
    "\n",
    "model = als.fit(training)"
   ]
  },
  {
   "cell_type": "code",
   "execution_count": 40,
   "metadata": {},
   "outputs": [],
   "source": [
    "# Output predictions\n",
    "predictions = model.transform(test)"
   ]
  },
  {
   "cell_type": "code",
   "execution_count": 41,
   "metadata": {},
   "outputs": [
    {
     "name": "stdout",
     "output_type": "stream",
     "text": [
      "+-----------+--------------------+\n",
      "|user_als_id|     recommendations|\n",
      "+-----------+--------------------+\n",
      "|       1580|[{498, 0.9983822}...|\n",
      "|       4900|[{704, 4.1718445}...|\n",
      "|       5300|[{590, 0.9978583}...|\n",
      "|       6620|[{635, 3.3646815}...|\n",
      "|       7240|[{635, 3.3646815}...|\n",
      "|       7340|[{340, 2.762645},...|\n",
      "|       7880|[{340, 2.762645},...|\n",
      "|        471|[{635, 3.3646815}...|\n",
      "|       4101|[{635, 3.3646815}...|\n",
      "|       1342|[{220, 3.2450476}...|\n",
      "|       2122|[{635, 3.3646815}...|\n",
      "|       2142|[{704, 4.1718445}...|\n",
      "|        463|[{704, 4.1718445}...|\n",
      "|        833|[{704, 4.1718445}...|\n",
      "|       5803|[{704, 4.1718445}...|\n",
      "|       7253|[{43, 0.9986244},...|\n",
      "|       7833|[{635, 3.3646815}...|\n",
      "|       7993|[{340, 2.762645},...|\n",
      "|       7554|[{635, 3.3646815}...|\n",
      "|       7754|[{704, 4.1718445}...|\n",
      "+-----------+--------------------+\n",
      "only showing top 20 rows\n",
      "\n"
     ]
    }
   ],
   "source": [
    "# top 5 mention users for each tweet user with rating value\n",
    "user_recommendations = model.recommendForAllUsers(5)\n",
    "user_recommendations.show(20)"
   ]
  },
  {
   "cell_type": "code",
   "execution_count": 42,
   "metadata": {},
   "outputs": [
    {
     "name": "stdout",
     "output_type": "stream",
     "text": [
      "+-----------+--------------------+----------------+-----------------+----------------+-----------------+-----------------+\n",
      "|user_als_id|     recommendations|       mention_1|        mention_2|       mention_3|        mention_4|        mention_5|\n",
      "+-----------+--------------------+----------------+-----------------+----------------+-----------------+-----------------+\n",
      "|       1580|[{498, 0.9983822}...|{498, 0.9983822}| {207, 0.5535434}|{359, 0.5484498}|{225, 0.53368735}| {726, 0.5100828}|\n",
      "|       4900|[{704, 4.1718445}...|{704, 4.1718445}| {628, 3.3765597}|{314, 3.3749497}| {596, 3.1945496}| {729, 3.1508334}|\n",
      "|       5300|[{590, 0.9978583}...|{590, 0.9978583}|{635, 0.93047214}|{756, 0.7417017}| {311, 0.7230163}| {243, 0.6074761}|\n",
      "|       6620|[{635, 3.3646815}...|{635, 3.3646815}| {391, 3.3398652}|{358, 3.1223652}| {704, 3.0805924}|  {128, 3.021338}|\n",
      "|       7240|[{635, 3.3646815}...|{635, 3.3646815}| {391, 3.3398652}|{358, 3.1223652}| {704, 3.0805924}|  {128, 3.021338}|\n",
      "|       7340|[{340, 2.762645},...| {340, 2.762645}|  {391, 2.440507}|{428, 2.3610883}| {229, 2.3443923}|  {628, 2.323241}|\n",
      "|       7880|[{340, 2.762645},...| {340, 2.762645}|  {391, 2.440507}|{428, 2.3610883}| {229, 2.3443923}|  {628, 2.323241}|\n",
      "|        471|[{635, 3.3646815}...|{635, 3.3646815}| {391, 3.3398652}|{358, 3.1223652}| {704, 3.0805924}|  {128, 3.021338}|\n",
      "|       4101|[{635, 3.3646815}...|{635, 3.3646815}| {391, 3.3398652}|{358, 3.1223652}| {704, 3.0805924}|  {128, 3.021338}|\n",
      "|       1342|[{220, 3.2450476}...|{220, 3.2450476}| {559, 2.0984864}| {198, 1.967407}| {499, 1.7667134}| {130, 1.7388695}|\n",
      "|       2122|[{635, 3.3646815}...|{635, 3.3646815}| {391, 3.3398652}|{358, 3.1223652}| {704, 3.0805924}|  {128, 3.021338}|\n",
      "|       2142|[{704, 4.1718445}...|{704, 4.1718445}| {628, 3.3765597}|{314, 3.3749497}| {596, 3.1945496}| {729, 3.1508334}|\n",
      "|        463|[{704, 4.1718445}...|{704, 4.1718445}| {628, 3.3765597}|{314, 3.3749497}| {596, 3.1945496}| {729, 3.1508334}|\n",
      "|        833|[{704, 4.1718445}...|{704, 4.1718445}| {628, 3.3765597}|{314, 3.3749497}| {596, 3.1945496}| {729, 3.1508334}|\n",
      "|       5803|[{704, 4.1718445}...|{704, 4.1718445}| {628, 3.3765597}|{314, 3.3749497}| {596, 3.1945496}| {729, 3.1508334}|\n",
      "|       7253|[{43, 0.9986244},...| {43, 0.9986244}|{225, 0.51963806}|{51, 0.48171636}|{328, 0.46745008}|{362, 0.45419312}|\n",
      "|       7833|[{635, 3.3646815}...|{635, 3.3646815}| {391, 3.3398652}|{358, 3.1223652}| {704, 3.0805924}|  {128, 3.021338}|\n",
      "|       7993|[{340, 2.762645},...| {340, 2.762645}|  {391, 2.440507}|{428, 2.3610883}| {229, 2.3443923}|  {628, 2.323241}|\n",
      "|       7554|[{635, 3.3646815}...|{635, 3.3646815}| {391, 3.3398652}|{358, 3.1223652}| {704, 3.0805924}|  {128, 3.021338}|\n",
      "|       7754|[{704, 4.1718445}...|{704, 4.1718445}| {628, 3.3765597}|{314, 3.3749497}| {596, 3.1945496}| {729, 3.1508334}|\n",
      "+-----------+--------------------+----------------+-----------------+----------------+-----------------+-----------------+\n",
      "only showing top 20 rows\n",
      "\n"
     ]
    }
   ],
   "source": [
    "# Split out recommended users\n",
    "user_recommendations_split = user_recommendations.withColumn(\"mention_1\", user_recommendations[\"recommendations\"].getItem(0)) \\\n",
    ".withColumn(\"mention_2\", user_recommendations[\"recommendations\"].getItem(1)) \\\n",
    ".withColumn(\"mention_3\", user_recommendations[\"recommendations\"].getItem(2)) \\\n",
    ".withColumn(\"mention_4\", user_recommendations[\"recommendations\"].getItem(3)) \\\n",
    ".withColumn(\"mention_5\", user_recommendations[\"recommendations\"].getItem(4))\n",
    "\n",
    "user_recommendations_split.show(20)"
   ]
  },
  {
   "cell_type": "code",
   "execution_count": 43,
   "metadata": {},
   "outputs": [
    {
     "name": "stdout",
     "output_type": "stream",
     "text": [
      "+-----------+--------------+\n",
      "|user_als_id|mention_als_id|\n",
      "+-----------+--------------+\n",
      "|       1580|           498|\n",
      "|       4900|           704|\n",
      "|       5300|           590|\n",
      "|       6620|           635|\n",
      "|       7240|           635|\n",
      "|       7340|           340|\n",
      "|       7880|           340|\n",
      "|        471|           635|\n",
      "|       4101|           635|\n",
      "|       1342|           220|\n",
      "|       2122|           635|\n",
      "|       2142|           704|\n",
      "|        463|           704|\n",
      "|        833|           704|\n",
      "|       5803|           704|\n",
      "|       7253|            43|\n",
      "|       7833|           635|\n",
      "|       7993|           340|\n",
      "|       7554|           635|\n",
      "|       7754|           704|\n",
      "+-----------+--------------+\n",
      "only showing top 20 rows\n",
      "\n"
     ]
    }
   ],
   "source": [
    "# Revert back to user_id and mention_id using lookup table\n",
    "rec_expanded_1 = user_recommendations_split.select(\"user_als_id\",col(\"mention_1.*\")).select(\"user_als_id\",\"mention_als_id\") \\\n",
    ".cache()\n",
    "rec_expanded_2 = user_recommendations_split.select(\"user_als_id\",col(\"mention_2.*\")).select(\"user_als_id\",\"mention_als_id\") \\\n",
    ".cache()\n",
    "rec_expanded_3 = user_recommendations_split.select(\"user_als_id\",col(\"mention_3.*\")).select(\"user_als_id\",\"mention_als_id\") \\\n",
    ".cache()\n",
    "rec_expanded_4 = user_recommendations_split.select(\"user_als_id\",col(\"mention_4.*\")).select(\"user_als_id\",\"mention_als_id\") \\\n",
    ".cache()\n",
    "rec_expanded_5 = user_recommendations_split.select(\"user_als_id\",col(\"mention_5.*\")).select(\"user_als_id\",\"mention_als_id\") \\\n",
    ".cache()\n",
    "\n",
    "rec_expanded_1.show(20)"
   ]
  },
  {
   "cell_type": "code",
   "execution_count": 44,
   "metadata": {},
   "outputs": [
    {
     "name": "stdout",
     "output_type": "stream",
     "text": [
      "+-------------------+------------------+\n",
      "|            user_id|     rec_mention_1|\n",
      "+-------------------+------------------+\n",
      "|           88313436|          23424533|\n",
      "|1324418983567757314|          12133382|\n",
      "|          265373725|         149075155|\n",
      "|          152337358|        1643123766|\n",
      "|          575269972|        1643123766|\n",
      "|          132125175|          85583894|\n",
      "|          170283587|          85583894|\n",
      "| 791526635182788609|        1643123766|\n",
      "|           91268897|        1643123766|\n",
      "|         1283499631|          24259259|\n",
      "| 719943446300110849|        1643123766|\n",
      "|1196958389416296449|          12133382|\n",
      "|         1549482409|          12133382|\n",
      "|           66753218|          12133382|\n",
      "|          104159337|          12133382|\n",
      "|         3383573572|865004396681207809|\n",
      "|           23124586|        1643123766|\n",
      "|         3001455391|          85583894|\n",
      "|           67225979|        1643123766|\n",
      "| 839055764136157184|          12133382|\n",
      "+-------------------+------------------+\n",
      "only showing top 20 rows\n",
      "\n"
     ]
    }
   ],
   "source": [
    "# convert using lookup table\n",
    "u_convert_1 = rec_expanded_1.join(user_als_id_LUT, rec_expanded_1.user_als_id == user_als_id_LUT.user_als_id,how='left')\n",
    "u_convert_2 = rec_expanded_2.join(user_als_id_LUT, rec_expanded_2.user_als_id == user_als_id_LUT.user_als_id,how='left')\n",
    "u_convert_3 = rec_expanded_3.join(user_als_id_LUT, rec_expanded_3.user_als_id == user_als_id_LUT.user_als_id,how='left')\n",
    "u_convert_4 = rec_expanded_4.join(user_als_id_LUT, rec_expanded_4.user_als_id == user_als_id_LUT.user_als_id,how='left')\n",
    "u_convert_5 = rec_expanded_5.join(user_als_id_LUT, rec_expanded_5.user_als_id == user_als_id_LUT.user_als_id,how='left')\n",
    "\n",
    "convert_1 = u_convert_1.join(mention_als_id_LUT, u_convert_1.mention_als_id == mention_als_id_LUT.mention_als_id,how='left') \\\n",
    ".select(\"user_id\",\"mention_id\").withColumnRenamed(\"mention_id\",\"rec_mention_1\").cache()\n",
    "convert_2 = u_convert_2.join(mention_als_id_LUT, u_convert_2.mention_als_id == mention_als_id_LUT.mention_als_id,how='left') \\\n",
    ".select(\"user_id\",\"mention_id\").withColumnRenamed(\"mention_id\",\"rec_mention_2\").withColumnRenamed(\"user_id\",\"user_id_2\").cache()\n",
    "convert_3 = u_convert_3.join(mention_als_id_LUT, u_convert_3.mention_als_id == mention_als_id_LUT.mention_als_id,how='left') \\\n",
    ".select(\"user_id\",\"mention_id\").withColumnRenamed(\"mention_id\",\"rec_mention_3\").withColumnRenamed(\"user_id\",\"user_id_3\").cache()\n",
    "convert_4 = u_convert_4.join(mention_als_id_LUT, u_convert_4.mention_als_id == mention_als_id_LUT.mention_als_id,how='left') \\\n",
    ".select(\"user_id\",\"mention_id\").withColumnRenamed(\"mention_id\",\"rec_mention_4\").withColumnRenamed(\"user_id\",\"user_id_4\").cache()\n",
    "convert_5 = u_convert_5.join(mention_als_id_LUT, u_convert_5.mention_als_id == mention_als_id_LUT.mention_als_id,how='left') \\\n",
    ".select(\"user_id\",\"mention_id\").withColumnRenamed(\"mention_id\",\"rec_mention_5\").withColumnRenamed(\"user_id\",\"user_id_5\").cache()\n",
    "\n",
    "convert_1.show(20)"
   ]
  },
  {
   "attachments": {},
   "cell_type": "markdown",
   "metadata": {},
   "source": [
    "### Top 5 Recommended Mention Users"
   ]
  },
  {
   "cell_type": "code",
   "execution_count": 45,
   "metadata": {},
   "outputs": [
    {
     "name": "stdout",
     "output_type": "stream",
     "text": [
      "+-------------------+------------------+------------------+------------------+-------------------+-------------------+\n",
      "|            user_id|     rec_mention_1|     rec_mention_2|     rec_mention_3|      rec_mention_4|      rec_mention_5|\n",
      "+-------------------+------------------+------------------+------------------+-------------------+-------------------+\n",
      "|         1054600164|          14167059|         157981564|         114968487|           24259259|           12133382|\n",
      "|          107685130|          40851610|          14296273|        1643123766|           59159771|1354219017721032709|\n",
      "|1124122599250911233|        1643123766|         252794509|         153944899|           12133382|         2876041031|\n",
      "|1129048802017579008|          12133382|         157981564|         114968487|           16184358|          587591389|\n",
      "|1250082361229729792|          92555364|          61534021|          55060090|1059652318285709312|           39511166|\n",
      "|1339354662923808780|          12133382|         157981564|         114968487|           16184358|          587591389|\n",
      "|1350710874701504517|        1643123766|         252794509|         153944899|           12133382|         2876041031|\n",
      "|         1352233225|842678603305377793|          94482117|          19881665|         2876041031|          866065134|\n",
      "|1372166406972661770|         327449246|          90670300|           2729061|          398878622|           42953038|\n",
      "|1384094912711254024|        1643123766|          55060090|         587591389|           40851610|          169963553|\n",
      "|         1530728310|         309705905|947605221416538112|         281877818|            9814812|          598921658|\n",
      "|           15353484|          85583894|         252794509|          94482117|            9300262|          157981564|\n",
      "|           17823761|        1643123766|         252794509|         153944899|           12133382|         2876041031|\n",
      "|           17922098|          20759034|          94482117|          21406834|          281877818| 804414007377416192|\n",
      "|          201990502|          12133382|         157981564|         114968487|           16184358|          587591389|\n",
      "|          219400743|        1643123766|         252794509|         153944899|           12133382|         2876041031|\n",
      "|           23504313|         298217736|         309705905|        2195885540|            9814812|          121181001|\n",
      "|          260913694|        1643123766|         252794509|         153944899|           12133382|         2876041031|\n",
      "|          283706081|         449027230|          15012486|842678603305377793|           39511166|           94482117|\n",
      "|         2991866248|          12133382|         157981564|         114968487|           16184358|          587591389|\n",
      "+-------------------+------------------+------------------+------------------+-------------------+-------------------+\n",
      "only showing top 20 rows\n",
      "\n"
     ]
    }
   ],
   "source": [
    "# join back together\n",
    "join_1 = convert_1.join(convert_2, convert_1.user_id == convert_2.user_id_2,how='left')\n",
    "join_2 = join_1.join(convert_3, join_1.user_id == convert_3.user_id_3,how='left')\n",
    "join_3 = join_2.join(convert_4, join_2.user_id == convert_4.user_id_4,how='left')\n",
    "join_4 = join_3.join(convert_5, join_3.user_id == convert_5.user_id_5,how='left') \\\n",
    ".select(\"user_id\",\"rec_mention_1\",\"rec_mention_2\",\"rec_mention_3\",\"rec_mention_4\",\"rec_mention_5\")\n",
    "\n",
    "# final recommended users list\n",
    "join_4.show(20)"
   ]
  },
  {
   "cell_type": "code",
   "execution_count": 47,
   "metadata": {},
   "outputs": [
    {
     "data": {
      "text/plain": [
       "pyspark.sql.dataframe.DataFrame"
      ]
     },
     "execution_count": 47,
     "metadata": {},
     "output_type": "execute_result"
    }
   ],
   "source": [
    "type(join_4)"
   ]
  },
  {
   "cell_type": "code",
   "execution_count": 53,
   "metadata": {},
   "outputs": [
    {
     "data": {
      "text/plain": [
       "[((138168339, 4319416272), 0.1679473594982805),\n",
       " ((138168339, 91905327), 0.15648947468856134),\n",
       " ((138168339, 345745234), 0.15575210018168117),\n",
       " ((138168339, 5392522), 0.15574439860369743),\n",
       " ((138168339, 21969867), 0.14604886511105758)]"
      ]
     },
     "execution_count": 53,
     "metadata": {},
     "output_type": "execute_result"
    }
   ],
   "source": [
    "final_Q1_w2v_desc"
   ]
  },
  {
   "cell_type": "code",
   "execution_count": 54,
   "metadata": {},
   "outputs": [
    {
     "data": {
      "text/plain": [
       "[((138168339, 1906579968), 0.5135958160821892),\n",
       " ((138168339, 2512691774), 0.5135958160821892),\n",
       " ((138168339, 1497069360), 0.5135958160821892),\n",
       " ((138168339, 902902542857854977), 0.5135958160821892),\n",
       " ((138168339, 242898032), 0.5135958160821892)]"
      ]
     },
     "execution_count": 54,
     "metadata": {},
     "output_type": "execute_result"
    }
   ],
   "source": [
    "final_Q1_idf_desc"
   ]
  },
  {
   "cell_type": "code",
   "execution_count": 55,
   "metadata": {},
   "outputs": [
    {
     "name": "stdout",
     "output_type": "stream",
     "text": [
      "+-------------------+------------------+------------------+-------------+-------------+-------------+\n",
      "|            user_id|     rec_mention_1|     rec_mention_2|rec_mention_3|rec_mention_4|rec_mention_5|\n",
      "+-------------------+------------------+------------------+-------------+-------------+-------------+\n",
      "|           88313436|          23424533|          25049056|     35169299|      2729061|     41704988|\n",
      "|1324418983567757314|          12133382|         157981564|    114968487|     16184358|    587591389|\n",
      "|          265373725|         149075155|        1643123766|     17464397|     15012486|     17154865|\n",
      "|          152337358|        1643123766|         252794509|    153944899|     12133382|   2876041031|\n",
      "|          575269972|        1643123766|         252794509|    153944899|     12133382|   2876041031|\n",
      "|          132125175|          85583894|         252794509|     94482117|      9300262|    157981564|\n",
      "|          170283587|          85583894|         252794509|     94482117|      9300262|    157981564|\n",
      "| 791526635182788609|        1643123766|         252794509|    153944899|     12133382|   2876041031|\n",
      "|           91268897|        1643123766|         252794509|    153944899|     12133382|   2876041031|\n",
      "|         1283499631|          24259259|738767160395321345|    198118653|    320432933|    189868631|\n",
      "| 719943446300110849|        1643123766|         252794509|    153944899|     12133382|   2876041031|\n",
      "|1196958389416296449|          12133382|         157981564|    114968487|     16184358|    587591389|\n",
      "|         1549482409|          12133382|         157981564|    114968487|     16184358|    587591389|\n",
      "|           66753218|          12133382|         157981564|    114968487|     16184358|    587591389|\n",
      "|          104159337|          12133382|         157981564|    114968487|     16184358|    587591389|\n",
      "|         3383573572|865004396681207809|           2729061|    203123011|     55060090|     90670300|\n",
      "|           23124586|        1643123766|         252794509|    153944899|     12133382|   2876041031|\n",
      "|         3001455391|          85583894|         252794509|     94482117|      9300262|    157981564|\n",
      "|           67225979|        1643123766|         252794509|    153944899|     12133382|   2876041031|\n",
      "| 839055764136157184|          12133382|         157981564|    114968487|     16184358|    587591389|\n",
      "+-------------------+------------------+------------------+-------------+-------------+-------------+\n",
      "only showing top 20 rows\n",
      "\n"
     ]
    }
   ],
   "source": [
    "join_4.show(20)"
   ]
  },
  {
   "attachments": {},
   "cell_type": "markdown",
   "metadata": {},
   "source": [
    "press stop kernal to show in history server"
   ]
  }
 ],
 "metadata": {
  "kernelspec": {
   "display_name": "Python 3",
   "language": "python",
   "name": "python3"
  },
  "language_info": {
   "codemirror_mode": {
    "name": "ipython",
    "version": 3
   },
   "file_extension": ".py",
   "mimetype": "text/x-python",
   "name": "python",
   "nbconvert_exporter": "python",
   "pygments_lexer": "ipython3",
   "version": "3.8.8"
  }
 },
 "nbformat": 4,
 "nbformat_minor": 4
}
